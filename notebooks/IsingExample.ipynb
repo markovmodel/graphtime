{
 "cells": [
  {
   "cell_type": "markdown",
   "metadata": {},
   "source": [
    "# Estimating a dynamic random field using the graphtime library\n",
    "\n",
    "Simon Olsson 2018, simon.olsson / at / fu-berlin.de or [@smnlsssn](http://www.twitter.com/smnlssn)\n",
    "\n",
    "In this notebook we illustrate the use of the graphtime library to estimate dMRFs. The notebook will reproduce Fig 2, from our manuscript.\n",
    "\n",
    "We cover:\n",
    " - the generation of simulation data, here with the Ising model\n",
    " - the estimation of dMRFs \n",
    " - rudimentary visualization of results\n",
    " \n",
    "Imports and some function definitions"
   ]
  },
  {
   "cell_type": "code",
   "execution_count": null,
   "metadata": {},
   "outputs": [],
   "source": [
    "%matplotlib inline\n",
    "from matplotlib import pyplot as plt\n",
    "import matplotlib as mpl\n",
    "import numpy as np\n",
    "import matplotlib.gridspec as gridspec\n",
    "\n",
    "from sklearn.preprocessing import LabelBinarizer\n",
    "\n",
    "font = {'sans-serif': \"Arial\",\n",
    "        'family': \"sans-serif\",\n",
    "    'size'   : 8}\n",
    "\n",
    "mpl.rc('font', **font)\n",
    "\n",
    "from graphtime import markov_random_fields\n",
    "from graphtime import utils as _ut\n",
    "from graphtime import ising_utils as ising\n",
    "\n",
    "import msmtools as mt\n",
    "import pyemma as pe"
   ]
  },
  {
   "cell_type": "code",
   "execution_count": null,
   "metadata": {},
   "outputs": [],
   "source": [
    "is_positive_state = lambda x:x.mean(axis=1)>-0.01\n",
    "\n",
    "def generate_biased_data(Tmat, ntrajs, subsys_configurations, \n",
    "                         maxlen=1000, minlen=10, truncation_condition = is_positive_state):\n",
    "    \"\"\"\n",
    "        Generate biased data-set where trajectories are truncated if `truncation_condition` of future state \n",
    "        evaluates to True.\n",
    "        \n",
    "        Arguments:\n",
    "        ---------------\n",
    "        Tmat (ndarray) : N times N matrix of transition probabilities (a Markov state model)\n",
    "        ntrajs (int) : number of trajectories to generate\n",
    "        subsys_configurations (ndarray) : N times K matrix mapping each Markov state in `Tmat` to sub-system \n",
    "                                            configurations\n",
    "        maxlen (int=1000) : maximum length (steps) of a trajectory\n",
    "        minlen (int=10) : minimum length (step) of a trajectory\n",
    "        truncation_condition (function) : a callable which takes an K dimensional `ndarray` and returns a boolean.\n",
    "        \n",
    "    \"\"\"\n",
    "    otrajs = []\n",
    "    gtrajs = 0\n",
    "    while gtrajs<ntrajs:\n",
    "        tmptraj = _ut.simulate_MSM(Tmat, maxlen)    \n",
    "        truct_spots = np.where(truncation_condition(subsys_configurations[tmptraj]))[0]#[0]-1\n",
    "        if len(truct_spots)>0:\n",
    "            trunc_pos = truct_spots[0]-1\n",
    "            if trunc_pos>minlen:\n",
    "                otrajs.append(subsys_configurations[tmptraj[:trunc_pos]])\n",
    "                gtrajs=gtrajs+1\n",
    "        else:\n",
    "            otrajs.append(subsys_configurations[tmptraj[:]])\n",
    "            gtrajs=gtrajs+1\n",
    "    \n",
    "    return otrajs\n",
    "\n",
    "def featurize(X):\n",
    "    dts=[]\n",
    "    for x in X.copy():\n",
    "        x[np.where(x==-1)] = 0\n",
    "        dts.append ([int(''.join(map(str, f)),2) for f in x])\n",
    "    return dts"
   ]
  },
  {
   "cell_type": "markdown",
   "metadata": {},
   "source": [
    "Initiate reference Ising model"
   ]
  },
  {
   "cell_type": "code",
   "execution_count": null,
   "metadata": {},
   "outputs": [],
   "source": [
    "# number of spins (sub-systems) of Ising model to simulate\n",
    "nspin = 9\n",
    "\n",
    "# generate reference transition matrix (discretized Glauber rate model)\n",
    "ising_tmatrix = ising.Ising_tmatrix(nspin)\n",
    "\n",
    "# generate map from Markov state to Ising system configuration, global to local encoding [-1,1]\n",
    "ising_configurations = np.array(ising.all_Ising_states(nspin))\n"
   ]
  },
  {
   "cell_type": "markdown",
   "metadata": {},
   "source": [
    "## Generate data\n",
    "Generates 16 data-sets of equilibrium and non-equilibrium data. The non-equilibrium data only see global states with a net-negative Ising magnetization. The Ising magnetization is simply the average of the local state encoding. Conversely, for the the equilibrium data all states are in principle allowed. All simulations are initialized in an all negative configuration.  "
   ]
  },
  {
   "cell_type": "code",
   "execution_count": null,
   "metadata": {},
   "outputs": [],
   "source": [
    "noneq_data = [generate_biased_data(ising_tmatrix, 300, ising_configurations, maxlen=2000) for i in range(16)]\n",
    "\n",
    "nframes_neqd = [np.vstack(bd).shape[0]-2*(len(noneq_data)-1) for bd in noneq_data]\n",
    "\n",
    "eq_data = [[ising_configurations[_ut.simulate_MSM(ising_tmatrix, nf)]] for nf in  nframes_neqd]"
   ]
  },
  {
   "cell_type": "markdown",
   "metadata": {},
   "source": [
    "## Estimate models\n",
    "\n",
    "Estimate dMRFs for equilibrium data-sets"
   ]
  },
  {
   "cell_type": "code",
   "execution_count": null,
   "metadata": {},
   "outputs": [],
   "source": [
    "eq_data_dmrfs_no_intercepts = []\n",
    "eq_data_dmrfs = []\n",
    "\n",
    "logreg_kwargs_no_intercepts = {'fit_intercept': False, \n",
    "                   'penalty': 'l1', 'C': 50., 'tol': 1e-4, 'solver': 'saga'}\n",
    "\n",
    "logreg_kwargs_intercepts = {'fit_intercept': True, \n",
    "                   'penalty': 'l1', 'C': 50., 'tol': 1e-4, 'solver': 'saga'}\n",
    "\n",
    "for _gen_data in eq_data:\n",
    "    #estimate model forcing fields (bias) to zero\n",
    "    eq_data_dmrfs_no_intercepts.append(markov_random_fields.estimate_dMRF(_gen_data, lag = 1, \n",
    "                                                      logistic_regression_kwargs = logreg_kwargs_no_intercepts,\n",
    "                                                      Encoder = LabelBinarizer(neg_label = -1,\n",
    "                                                                             pos_label = 1)))\n",
    "    \n",
    "    #estimate model with fields (bias)\n",
    "    eq_data_dmrfs.append(markov_random_fields.estimate_dMRF(_gen_data, lag = 1, \n",
    "                                                      logistic_regression_kwargs = logreg_kwargs_intercepts,\n",
    "                                                      Encoder = LabelBinarizer(neg_label = -1,\n",
    "                                                                             pos_label = 1)))\n"
   ]
  },
  {
   "cell_type": "markdown",
   "metadata": {},
   "source": [
    "Estimate dMRFs for non-equilibrium data-sets"
   ]
  },
  {
   "cell_type": "code",
   "execution_count": null,
   "metadata": {},
   "outputs": [],
   "source": [
    "neq_data_dmrfs_no_intercepts = []\n",
    "neq_data_dmrfs = []\n",
    "\n",
    "for bd in noneq_data: \n",
    "    #estimate model forcing fields (bias) to zero\n",
    "    neq_data_dmrfs_no_intercepts.append(markov_random_fields.estimate_dMRF(bd, lag = 1, \n",
    "                                              logistic_regression_kwargs = logreg_kwargs_no_intercepts,\n",
    "                                              Encoder = LabelBinarizer(neg_label = -1,\n",
    "                                                                     pos_label = 1)))\n",
    "    #estimate model with fields (bias)\n",
    "    neq_data_dmrfs.append(markov_random_fields.estimate_dMRF(bd, lag = 1, \n",
    "                                                  logistic_regression_kwargs = logreg_kwargs_intercepts,\n",
    "                                                  Encoder = LabelBinarizer(neg_label = -1,\n",
    "                                                                             pos_label = 1)))"
   ]
  },
  {
   "cell_type": "markdown",
   "metadata": {},
   "source": [
    "## Reconstruct transition matrices from estimated dMRFs"
   ]
  },
  {
   "cell_type": "code",
   "execution_count": null,
   "metadata": {},
   "outputs": [],
   "source": [
    "tmats_eq_no_intercepts = [_dmrf.generate_transition_matrix() for _dmrf in eq_data_dmrfs_no_intercepts]\n",
    "tmats_eq = [_dmrf.generate_transition_matrix() for _dmrf in eq_data_dmrfs]\n",
    "\n",
    "tmats_neq_no_intercepts = [_dmrf.generate_transition_matrix() for _dmrf in neq_data_dmrfs_no_intercepts]\n",
    "tmats_neq = [_dmrf.generate_transition_matrix() for _dmrf in neq_data_dmrfs]\n"
   ]
  },
  {
   "cell_type": "code",
   "execution_count": null,
   "metadata": {},
   "outputs": [],
   "source": [
    "ts_eq = [mt.analysis.timescales(t)[1:4] for t in tmats_eq_no_intercepts]\n",
    "ts_neq = [mt.analysis.timescales(t)[1:4] for t in tmats_neq_no_intercepts] "
   ]
  },
  {
   "cell_type": "code",
   "execution_count": null,
   "metadata": {},
   "outputs": [],
   "source": [
    "MSM = [pe.msm.estimate_markov_model(featurize(bd.copy()), lag = 1, reversible = False) for bd in noneq_data]"
   ]
  },
  {
   "cell_type": "markdown",
   "metadata": {},
   "source": [
    "## Build Figure 1"
   ]
  },
  {
   "cell_type": "code",
   "execution_count": null,
   "metadata": {},
   "outputs": [],
   "source": [
    "double_column_width = 6.968\n",
    "single_column_width= 3.307\n",
    "\n",
    "fig = plt.figure(figsize=(single_column_width, 1.6*single_column_width))\n",
    "\n",
    "gs = gridspec.GridSpec(170, 100)\n",
    "ax = np.array([[plt.subplot(gs[70+i*50:70+(i+1)*50, j*50:(j+1)*50]) for i in range(2)] for j in range(2)]).T\n",
    "\n",
    "ax[0,0].grid('on')\n",
    "ax[0,0].plot([-0.5,4], [-0.5,4], color='k', ls = '--', lw=0.5)\n",
    "ax[0,0].errorbar(np.mean([_dmrf.get_subsystem_couplings().ravel() for _dmrf in neq_data_dmrfs_no_intercepts], axis=0), \n",
    "            np.mean([_dmrf.get_subsystem_couplings().ravel() for _dmrf in eq_data_dmrfs_no_intercepts], axis=0),\n",
    "            xerr=np.std([_dmrf.get_subsystem_couplings().ravel() for _dmrf in neq_data_dmrfs_no_intercepts], axis=0),\n",
    "            yerr=np.std([_dmrf.get_subsystem_couplings().ravel() for _dmrf in eq_data_dmrfs_no_intercepts], axis=0), fmt=\".\")\n",
    "ax[0,0].set_xlim([-0.5,4])\n",
    "ax[0,0].set_ylim([-0.5,4])\n",
    "ax[0,0].annotate(\"Self coupl.\", \n",
    "             xy=(np.array(neq_data_dmrfs_no_intercepts[0].get_subsystem_couplings()).max(), \n",
    "                 np.array(eq_data_dmrfs_no_intercepts[0].get_subsystem_couplings()).max()), \n",
    "             xytext=(0, 0.8*np.array(neq_data_dmrfs_no_intercepts[0].get_subsystem_couplings()).max()),\n",
    "             arrowprops=dict(arrowstyle=\"->\"))\n",
    "ax[0,0].set_xlabel(r'NED $J_{ij}$', fontsize=8)\n",
    "ax[0,0].set_ylabel(r'ED $J_{ij}$', fontsize=8)\n",
    "\n",
    "\n",
    "ax[0,1].hist(ising_configurations.mean(axis=1), \n",
    "             weights = mt.analysis.statdist(np.mean(tmats_eq_no_intercepts, axis=0)), \n",
    "             normed=True, histtype='step', bins=10, log = False, label='dMRF ED')\n",
    "\n",
    "ax[0,1].hist(ising_configurations.mean(axis=1), \n",
    "             weights = mt.analysis.statdist(np.mean(tmats_neq_no_intercepts, axis=0)), \n",
    "             normed=True, histtype='step', bins=10, log = False, label='dMRF NED')\n",
    "\n",
    "ax[0,1].hist(np.concatenate([ising_configurations.mean(axis=1)[m.active_set] for m in MSM]), \n",
    "             weights = np.concatenate([m.stationary_distribution for m in MSM]), \n",
    "             normed=True, histtype='step', bins=5, log = False, label='MSM NED')\n",
    "\n",
    "ax[0,1].hist(ising_configurations.mean(axis=1), \n",
    "             weights = mt.analysis.statdist(ising_tmatrix), \n",
    "             normed=True, histtype='step', bins=10, log = False, label='True')\n",
    "\n",
    "ax[0,1].hist(2*np.vstack([np.vstack(bd) for bd in bd]).mean(axis=1)-1, \n",
    "             normed=True, histtype='step', bins=5, log = False, label='NED', ls='--')\n",
    "\n",
    "ax[0,1].hist(np.vstack(_gen_data).mean(axis=1), \n",
    "             normed=True, histtype='step', bins=10, log = True, label='ED', ls='--')\n",
    "\n",
    "ax[0,1].set_ylim([2e-1, 5])\n",
    "ax[0,1].set_xlabel(r'$\\langle M \\rangle$', fontsize=8)\n",
    "ax[0,1].set_ylabel(r'$p(\\langle M \\rangle$)', fontsize=8)\n",
    "\n",
    "avgp = np.mean(tmats_eq_no_intercepts, axis=0).ravel()\n",
    "lo,up = mt.util.statistics.confidence_interval([d.ravel() for d in tmats_eq_no_intercepts])\n",
    "\n",
    "ax[1,0].errorbar(ising_tmatrix.ravel(), \n",
    "                avgp,\n",
    "                yerr=(avgp - lo, up - avgp),\n",
    "                fmt='.')\n",
    "\n",
    "ax[1,0].plot([-0,1],[-0,1], lw=0.5, ls='--', color='k')\n",
    "ax[1,0].set_xlim([-0,1])\n",
    "ax[1,0].set_ylim([-0,1])\n",
    "ax[1,0].set_xlabel(r'True $T_{ij}$', fontsize=8 )\n",
    "ax[1,0].set_ylabel(r'NED dMRF $T_{ij}$', fontsize=8 )\n",
    "\n",
    "\n",
    "\n",
    "w=0.27\n",
    "avgp = np.mean(ts_eq, axis=0)\n",
    "lo,up = mt.util.statistics.confidence_interval([d for d in ts_eq])\n",
    "ax[1, 1].bar(np.arange(1, 4) - w, avgp, label = 'ED dMRF', yerr = (avgp - lo, up - avgp),\n",
    "            width = w, fill = False, edgecolor = \"C0\", ecolor = \"C0\")\n",
    "\n",
    "avgp = np.mean(ts_neq, axis=0)\n",
    "lo,up = mt.util.statistics.confidence_interval([d for d in ts_neq])\n",
    "ax[1, 1].bar(np.arange(1, 4), avgp, label = 'NED dMRF', yerr = (avgp - lo, up - avgp), \n",
    "            width = w, fill = False, edgecolor = \"C1\", ecolor = \"C1\" )\n",
    "\n",
    "avgp = np.mean([m.timescales(k = 3) for m in MSM], axis = 0)\n",
    "lo,up = mt.util.statistics.confidence_interval([d for d in np.mean([m.timescales(k = 3) for m in MSM], axis = 0)])\n",
    "ax[1, 1].bar(np.arange(1, 4) + w,avgp, yerr = (avgp - lo, up - avgp), label = 'NED MSM' , \n",
    "            width = w, fill = False, edgecolor = \"C2\", ecolor = \"C2\")\n",
    "\n",
    "\n",
    "for _i,_ts in enumerate(mt.analysis.timescales(ising_tmatrix)[1:4]):\n",
    "    ax[1,1].hlines(_ts, (_i+1)-w, (_i+1)+w , label='True', color='red')\n",
    "    \n",
    "ax[1, 1].set_xlabel('Process', fontsize=8)\n",
    "ax[1, 1].set_ylabel('Time-scale / step', fontsize=8)\n",
    "ax[1, 1].set_xticks(range(1,9))\n",
    "ax[1, 1].set_xlim([1-w*2.2,3+w*2.2])\n",
    "\n",
    "#ax[1,1].xaxis.grid('on')\n",
    "\n",
    "#ax[1,1].legend()\n",
    "\n",
    "for a,lbl in zip(ax.ravel(), ('B', 'C', 'D', 'E')):\n",
    "    a.text(-0.5, 1.15, lbl, transform=a.transAxes,\n",
    "      fontsize=12, va='top')\n",
    "legend_ax = plt.subplot(gs[60:70,:])\n",
    "legend_ax.legend([child for child in ax[0,1].get_children() if isinstance(child, mpl.patches.Polygon)],\n",
    "                 [child.get_label() for child in ax[0,1].get_children() if isinstance(child, mpl.patches.Polygon)]\n",
    "                 ,loc=(0.12,1.1), ncol=2)\n",
    "legend_ax.axis('off')\n",
    "ax2 = [] \n",
    "for i in range(2):\n",
    "    if i==0:\n",
    "        ax2.append(plt.subplot(gs[:50, i*50:(i+1)*50]))\n",
    "    else:\n",
    "        ax2.append(plt.subplot(gs[:50, i*50:(i+1)*50], sharey=ax2[0]))\n",
    "    \n",
    "ax2[0].plot(eq_data[0][0].mean(axis=1), color='darkorchid', alpha=1, lw=0.5)\n",
    "ax2[0].set_ylabel(r'$\\langle M \\rangle$')\n",
    "ax2[0].set_xlabel(r'time / step')\n",
    "ax2[1].set_xlabel(r'time / step')\n",
    "ax2[0].set_title('Equilibrium data')\n",
    "ax2[1].set_title('Non-equilibrium data')\n",
    "[ax2[1].plot(2*bd.mean(axis=1)-1., color='darkorchid', alpha=0.1, lw=0.5) for bd in noneq_data[0] ]\n",
    "ax2[1].plot([0,1000], [-0.111,-0.111], color='k', ls=':')\n",
    "ax2[1].annotate(\"Max. net mag.\", xy=(80, -0.111), xytext=(80,0.2),\n",
    "            arrowprops=dict(arrowstyle=\"->\"))\n",
    "ax2[1].set_xlim((-20,1000))\n",
    "ax2[1].set_ylim(ax2[0].get_ylim())\n",
    "\n",
    "\n",
    "ax2[0].text(-0.5, 1.11, \"A\", transform=ax2[0].transAxes,\n",
    "      fontsize=12, va='top')\n",
    "\n",
    "fig.tight_layout()\n",
    "#fig.savefig('Fig1.pdf')"
   ]
  },
  {
   "cell_type": "code",
   "execution_count": null,
   "metadata": {},
   "outputs": [],
   "source": [
    "fig.savefig('Fig1.png', dpi=300)"
   ]
  },
  {
   "cell_type": "code",
   "execution_count": null,
   "metadata": {},
   "outputs": [],
   "source": []
  }
 ],
 "metadata": {
  "kernelspec": {
   "display_name": "Python 3",
   "language": "python",
   "name": "python3"
  },
  "language_info": {
   "codemirror_mode": {
    "name": "ipython",
    "version": 3
   },
   "file_extension": ".py",
   "mimetype": "text/x-python",
   "name": "python",
   "nbconvert_exporter": "python",
   "pygments_lexer": "ipython3",
   "version": "3.6.5"
  }
 },
 "nbformat": 4,
 "nbformat_minor": 2
}
