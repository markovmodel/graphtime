{
 "cells": [
  {
   "cell_type": "markdown",
   "metadata": {},
   "source": [
    "# Estimating a dynamic random field using the graphtime library\n",
    "\n",
    "Simon Olsson 2018, simon.olsson / at / fu-berlin.de or [@smnlsssn](http://www.twitter.com/smnlssn)\n",
    "\n",
    "In this notebook we illustrate the use of the graphtime library to estimate dMRFs.\n",
    "\n",
    "We cover:\n",
    " - the generation of simulation data, here with the Ising model\n",
    " - the estimation of dMRFs \n",
    " - rudimentary visualization of results"
   ]
  },
  {
   "cell_type": "code",
   "execution_count": null,
   "metadata": {},
   "outputs": [],
   "source": [
    "%matplotlib inline\n",
    "from matplotlib import pyplot as plt\n",
    "import matplotlib as mpl\n",
    "import numpy as np\n",
    "import matplotlib.gridspec as gridspec\n",
    "\n",
    "from sklearn.preprocessing import LabelBinarizer\n",
    "\n",
    "font = {'sans-serif': \"Arial\",\n",
    "        'family': \"sans-serif\",\n",
    "    'size'   : 8}\n",
    "\n",
    "mpl.rc('font', **font)\n",
    "\n",
    "from graphtime import markov_random_fields\n",
    "from graphtime import utils as _ut\n",
    "from graphtime import ising_utils as ising"
   ]
  },
  {
   "cell_type": "markdown",
   "metadata": {},
   "source": [
    "Generate data from Ising model"
   ]
  },
  {
   "cell_type": "code",
   "execution_count": null,
   "metadata": {},
   "outputs": [],
   "source": [
    "# number of spins (sub-systems) of Ising model to simulate\n",
    "nspin = 5\n",
    "\n",
    "# generate reference transition matrix (discretized Glauber rate model)\n",
    "ising_tmatrix = ising.Ising_tmatrix(nspin, gamma=0)\n",
    "\n",
    "# generate map from Markov state to Ising system configuration, global to local encoding [0,1]\n",
    "ising_configurations = (np.array(ising.all_Ising_states(nspin))+1)/2\n",
    "\n",
    "# generate map from Markov state to Ising system configuration, global to local encoding [-1,1]\n",
    "ising_configurations_mipu = np.array(ising.all_Ising_states(nspin))\n",
    "\n",
    "# perform simulation\n",
    "ising_state_trajectory = _ut.simulate_MSM(ising_tmatrix, 50000)\n",
    "\n",
    "# map state trajectory to local encoding\n",
    "ising_configuration_trajectory = ising_configurations[ising_state_trajectory].astype(int)\n",
    "ising_configuration_trajectory_mipu = ising_configurations_mipu[ising_state_trajectory].astype(int)"
   ]
  },
  {
   "cell_type": "code",
   "execution_count": null,
   "metadata": {},
   "outputs": [],
   "source": [
    "\n",
    "dMRF  = markov_random_fields.estimate_dMRF([ising_configuration_trajectory], lag = 1)\n",
    "\n",
    "dMRF_mipu  = markov_random_fields.estimate_dMRF([ising_configuration_trajectory_mipu], lag = 1, \n",
    "                                                Encoder = LabelBinarizer(neg_label=-1,\n",
    "                                                                         pos_label=1))"
   ]
  },
  {
   "cell_type": "code",
   "execution_count": null,
   "metadata": {},
   "outputs": [],
   "source": []
  }
 ],
 "metadata": {
  "kernelspec": {
   "display_name": "Python 3",
   "language": "python",
   "name": "python3"
  },
  "language_info": {
   "codemirror_mode": {
    "name": "ipython",
    "version": 3
   },
   "file_extension": ".py",
   "mimetype": "text/x-python",
   "name": "python",
   "nbconvert_exporter": "python",
   "pygments_lexer": "ipython3",
   "version": "3.6.1"
  }
 },
 "nbformat": 4,
 "nbformat_minor": 2
}
